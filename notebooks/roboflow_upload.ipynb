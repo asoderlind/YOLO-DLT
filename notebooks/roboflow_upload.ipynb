{
 "cells": [
  {
   "cell_type": "code",
   "execution_count": 3,
   "metadata": {},
   "outputs": [
    {
     "name": "stdout",
     "output_type": "stream",
     "text": [
      "Transferred 115/1015 items from pretrained weights\n"
     ]
    }
   ],
   "source": [
    "from ultralytics import YOLO\n",
    "\n",
    "model = YOLO(\"yolo11l.yaml\").load(\"../weights/yolo11x-bddk100-night.pt\").save(\"yolo11l-bdd100k-night.pt\")"
   ]
  },
  {
   "cell_type": "code",
   "execution_count": null,
   "metadata": {},
   "outputs": [
    {
     "name": "stdout",
     "output_type": "stream",
     "text": [
      "loading Roboflow workspace...\n",
      "loading Roboflow project...\n",
      "View the status of your deployment at: https://app.roboflow.com/exjobb-ukue1/dbb100k-night/2\n",
      "Share your model with the world at: https://universe.roboflow.com/exjobb-ukue1/dbb100k-night/model/2\n"
     ]
    }
   ],
   "source": [
    "import roboflow  # type: ignore\n",
    "API_KEY = \"\"\n",
    "rf = roboflow.Roboflow(API_KEY)\n",
    "project = rf.workspace().project(\"dbb100k-night\")\n",
    "version = project.version(2)\n",
    "version.deploy(\"yolov11\", model_path=\"../weights\", filename=\"yolo11l-bdd100k-night.pt\")"
   ]
  }
 ],
 "metadata": {
  "kernelspec": {
   "display_name": ".venv",
   "language": "python",
   "name": "python3"
  },
  "language_info": {
   "codemirror_mode": {
    "name": "ipython",
    "version": 3
   },
   "file_extension": ".py",
   "mimetype": "text/x-python",
   "name": "python",
   "nbconvert_exporter": "python",
   "pygments_lexer": "ipython3",
   "version": "3.11.4"
  }
 },
 "nbformat": 4,
 "nbformat_minor": 2
}
