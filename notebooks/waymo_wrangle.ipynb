{
 "cells": [
  {
   "cell_type": "code",
   "execution_count": 17,
   "metadata": {},
   "outputs": [
    {
     "name": "stdout",
     "output_type": "stream",
     "text": [
      "../../yolo-testing/datasets/waymo_open_dataset/labels/train/*.txt\n",
      "Found 15617 train labels and 3742 val labels\n"
     ]
    }
   ],
   "source": [
    "import glob\n",
    "import os\n",
    "import random\n",
    "import shutil\n",
    "\n",
    "dataset_path = \"../../yolo-testing/datasets/waymo_open_dataset\"\n",
    "output_dataset_path = \"../../yolo-testing/datasets/waymo-noConf\"\n",
    "\n",
    "output_path_labels_train = f\"{output_dataset_path}/labels/train\"\n",
    "output_path_labels_val = f\"{output_dataset_path}/labels/val\"\n",
    "output_path_images_train = f\"{output_dataset_path}/images/train\"\n",
    "output_path_images_val = f\"{output_dataset_path}/images/val\"\n",
    "\n",
    "if not os.path.exists(output_dataset_path):\n",
    "    os.makedirs(output_dataset_path)\n",
    "    \n",
    "if not os.path.exists(output_path_labels_train):\n",
    "    os.makedirs(output_path_labels_train)\n",
    "\n",
    "if not os.path.exists(output_path_labels_val):\n",
    "    os.makedirs(output_path_labels_val)\n",
    "\n",
    "if not os.path.exists(output_path_images_train):\n",
    "    os.makedirs(output_path_images_train)\n",
    "\n",
    "if not os.path.exists(output_path_images_val):\n",
    "    os.makedirs(output_path_images_val)\n",
    "\n",
    "#labels_train = random.sample(glob.glob(f\"{dataset_path}/labels/training/*.txt\"), 400)\n",
    "#labels_val = random.sample(glob.glob(f\"{dataset_path}/labels/validation/*.txt\"), 100)\n",
    "labels_train = glob.glob(f\"{dataset_path}/labels/training/*.txt\")\n",
    "labels_val = glob.glob(f\"{dataset_path}/labels/validation/*.txt\")\n",
    "\n",
    "\n",
    "print(f\"{dataset_path}/labels/train/*.txt\")\n",
    "print(f\"Found {len(labels_train)} train labels and {len(labels_val)} val labels\")"
   ]
  },
  {
   "cell_type": "code",
   "execution_count": 18,
   "metadata": {},
   "outputs": [
    {
     "name": "stdout",
     "output_type": "stream",
     "text": [
      "Filtered 19359 labels and images\n"
     ]
    }
   ],
   "source": [
    "def filter_confidence(label, set, output_path):\n",
    "    with open(label, \"r\") as f:\n",
    "        lines = f.readlines()\n",
    "        for line in lines:\n",
    "            class_id, x, y, w, h, d, conf = line.split(\" \")\n",
    "            if d == \"-1.0\":\n",
    "                d = \"0.0\"\n",
    "            # Remove confidence threshold and write to new or existing file\n",
    "            with open(f\"{output_path}/labels/{set}/{os.path.basename(label)}\", \"a\") as f:\n",
    "                f.write(f\"{class_id} {x} {y} {w} {h} {d}\\n\")\n",
    "\n",
    "sum = 0\n",
    "for label in labels_train:\n",
    "    sum += 1\n",
    "    filter_confidence(label, \"train\", output_dataset_path)\n",
    "    # copy corresponding image\n",
    "    shutil.copy(f\"{dataset_path}/images/training/{os.path.basename(label)[:-4]}.jpeg\", output_path_images_train)\n",
    "\n",
    "\n",
    "for label in labels_val:\n",
    "    sum += 1\n",
    "    filter_confidence(label, \"val\", output_dataset_path)\n",
    "    # copy corresponding image\n",
    "    shutil.copy(f\"{dataset_path}/images/validation/{os.path.basename(label)[:-4]}.jpeg\", output_path_images_val)\n",
    "\n",
    "print(f\"Filtered {sum} labels and images\")"
   ]
  }
 ],
 "metadata": {
  "kernelspec": {
   "display_name": ".venv",
   "language": "python",
   "name": "python3"
  },
  "language_info": {
   "codemirror_mode": {
    "name": "ipython",
    "version": 3
   },
   "file_extension": ".py",
   "mimetype": "text/x-python",
   "name": "python",
   "nbconvert_exporter": "python",
   "pygments_lexer": "ipython3",
   "version": "3.11.4"
  }
 },
 "nbformat": 4,
 "nbformat_minor": 2
}
