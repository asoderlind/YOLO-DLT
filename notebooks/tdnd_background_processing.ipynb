{
 "cells": [
  {
   "cell_type": "code",
   "execution_count": null,
   "metadata": {},
   "outputs": [
    {
     "name": "stdout",
     "output_type": "stream",
     "text": [
      "['../../yolo-testing/datasets/night_Australia_OG/background']\n"
     ]
    }
   ],
   "source": []
  },
  {
   "cell_type": "code",
   "execution_count": 33,
   "metadata": {},
   "outputs": [
    {
     "name": "stdout",
     "output_type": "stream",
     "text": [
      "['../../yolo-testing/datasets/night_Australia_OG/background', '../../yolo-testing/datasets/night_China_OG/background', '../../yolo-testing/datasets/night_Canada_OG/background']\n",
      "81962\n",
      "['../../yolo-testing/datasets/night_Australia_OG/background/train/FILE200324-232548F_981.jpg', '../../yolo-testing/datasets/night_Australia_OG/background/train/FILE200323-234326F_1275.jpg', '../../yolo-testing/datasets/night_Australia_OG/background/train/FILE200324-000032F_309.jpg', '../../yolo-testing/datasets/night_Australia_OG/background/train/FILE200315-230922F_1644.jpg', '../../yolo-testing/datasets/night_Australia_OG/background/train/FILE200324-233350F_48.jpg']\n"
     ]
    }
   ],
   "source": [
    "import os\n",
    "import glob\n",
    "\n",
    "sets = [\"train\", \"val\", \"test\"]\n",
    "countries = [\"Australia\", \"China\", \"Canada\"]\n",
    "path_to_bg_folders = [f\"../../yolo-testing/datasets/night_{country}_OG/background\" for country in countries]\n",
    "print(path_to_bg_folders)\n",
    "\n",
    "bg_images = []\n",
    "for path in path_to_bg_folders:\n",
    "    for set in sets:\n",
    "        bg_images += [f\"{path}/{set}/{os.path.basename(x)}\" for x in glob.glob(f\"{path}/{set}/*.jpg\")]\n",
    "\n",
    "print(len(bg_images))\n",
    "print(bg_images[:5])"
   ]
  },
  {
   "cell_type": "code",
   "execution_count": 28,
   "metadata": {},
   "outputs": [],
   "source": [
    "output_dir_detections = \"../../yolo-testing/datasets/night_ALL_backgrounds/detections\"\n",
    "os.makedirs(output_dir_detections, exist_ok=True)\n",
    "\n",
    "output_dir_true_bg = \"../../yolo-testing/datasets/night_ALL_backgrounds/no_detections\"\n",
    "os.makedirs(output_dir_true_bg, exist_ok=True)"
   ]
  },
  {
   "cell_type": "code",
   "execution_count": 26,
   "metadata": {},
   "outputs": [
    {
     "name": "stdout",
     "output_type": "stream",
     "text": [
      "\n",
      "0: 384x640 (no detections), 26.3ms\n",
      "1: 384x640 (no detections), 26.3ms\n",
      "2: 384x640 (no detections), 26.3ms\n",
      "3: 384x640 (no detections), 26.3ms\n",
      "4: 384x640 (no detections), 26.3ms\n",
      "5: 384x640 (no detections), 26.3ms\n",
      "6: 384x640 1 2, 26.3ms\n",
      "7: 384x640 (no detections), 26.3ms\n",
      "8: 384x640 1 2, 26.3ms\n",
      "9: 384x640 1 2, 26.3ms\n",
      "Speed: 1.6ms preprocess, 26.3ms inference, 0.2ms postprocess per image at shape (1, 3, 384, 640)\n",
      "No detections\n",
      "No detections\n",
      "No detections\n",
      "No detections\n",
      "No detections\n",
      "No detections\n",
      "../../yolo-testing/datasets/night_Australia_OG/background/train/FILE200324-230441F_33.jpg\n",
      "No detections\n",
      "../../yolo-testing/datasets/night_Australia_OG/background/train/FILE200324-222429F_1362.jpg\n",
      "../../yolo-testing/datasets/night_Australia_OG/background/train/FILE200324-222730F_324.jpg\n"
     ]
    }
   ],
   "source": [
    "# init yolo model in eval mode\n",
    "from ultralytics import YOLO\n",
    "\n",
    "model = YOLO(\"../weights/yolo11n-finetuned-bdd100k-night.pt\").eval()\n",
    "#model = YOLO(\"../weights/yolo11l-bdd100k-night-old.pt\").eval()\n",
    "\n",
    "# run inference on one image\n",
    "\n",
    "results = model(bg_images[:10], conf=0.30)  # batch size 4\n",
    "for result in results:\n",
    "    boxes = result.boxes  # Boxes object for bounding box outputs\n",
    "    if len(result.boxes) == 0:\n",
    "        print(\"No detections\")\n",
    "    else:\n",
    "        result.show()\n",
    "        print(result.path)"
   ]
  }
 ],
 "metadata": {
  "kernelspec": {
   "display_name": ".venv",
   "language": "python",
   "name": "python3"
  },
  "language_info": {
   "codemirror_mode": {
    "name": "ipython",
    "version": 3
   },
   "file_extension": ".py",
   "mimetype": "text/x-python",
   "name": "python",
   "nbconvert_exporter": "python",
   "pygments_lexer": "ipython3",
   "version": "3.11.4"
  }
 },
 "nbformat": 4,
 "nbformat_minor": 2
}
