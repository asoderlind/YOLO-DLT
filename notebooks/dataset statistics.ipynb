{
 "cells": [
  {
   "cell_type": "code",
   "execution_count": 31,
   "metadata": {},
   "outputs": [
    {
     "name": "stdout",
     "output_type": "stream",
     "text": [
      "total: 14181\n",
      "training: 11345\n",
      "validation: 2836\n",
      "train/val split: 24.99779638607316\n",
      "total_background: 5832\n",
      "bg_training: 4687\n",
      "bg_validation: 1145\n",
      "num_classes: 9\n"
     ]
    }
   ],
   "source": [
    "import glob\n",
    "\n",
    "def get_statistics(dataset_path, image_format = \"jpg\") -> dict:\n",
    "    statistics = {\n",
    "        'total': -1,\n",
    "        'training': -1,\n",
    "        'validation': -1,\n",
    "        'train/val split': -1,\n",
    "        'total_background': -1,\n",
    "        'bg_training': -1,\n",
    "        'bg_validation': -1,\n",
    "        'num_classes': -1\n",
    "    }\n",
    "    training_images = glob.glob(f'{dataset_path}/images/train/*.{image_format}')\n",
    "    validation_images = glob.glob(f'{dataset_path}/images/val/*.{image_format}')\n",
    "    training_labels = glob.glob(f'{dataset_path}/labels/train/*.txt')\n",
    "    validation_labels = glob.glob(f'{dataset_path}/labels/val/*.txt')\n",
    "    total_images = len(training_images) + len(validation_images)\n",
    "    total_labels = len(training_labels) + len(validation_labels)\n",
    "\n",
    "    if total_images != total_labels:\n",
    "        print(f'Warning: total images ({total_images}) and total labels ({total_labels}) do not match')\n",
    "\n",
    "    total_empty_training_labels = 0\n",
    "    for label in training_labels:\n",
    "        with open(label, 'r') as f:\n",
    "            if not f.read():\n",
    "                total_empty_training_labels += 1\n",
    "\n",
    "    total_empty_validation_labels = 0\n",
    "    for label in validation_labels:\n",
    "        with open(label, 'r') as f:\n",
    "            if not f.read():\n",
    "                total_empty_validation_labels += 1\n",
    "\n",
    "    if len(training_images) == 0:\n",
    "        raise Exception('No training images found')\n",
    "\n",
    "    for label in training_labels:\n",
    "        # Count the number of classes\n",
    "        with open(label, 'r') as f:\n",
    "            for line in f:\n",
    "                class_id = line.split()[0]\n",
    "                if int(class_id) > statistics['num_classes']:\n",
    "                    statistics['num_classes'] = int(class_id)\n",
    "\n",
    "    statistics['total'] = total_images\n",
    "    statistics['training'] = len(training_images)\n",
    "    statistics['validation'] = len(validation_images)\n",
    "    statistics['train/val split'] = (len(validation_images) / len(training_images)) * 100\n",
    "    statistics['total_background'] = total_empty_training_labels + total_empty_validation_labels\n",
    "    statistics['bg_training'] = total_empty_training_labels\n",
    "    statistics['bg_validation'] = total_empty_validation_labels\n",
    "    if 'Australia' in dataset_path or 'China' in dataset_path:\n",
    "        statistics['num_classes'] += 0\n",
    "    else:\n",
    "        statistics['num_classes'] += 1\n",
    "    return statistics\n",
    "\n",
    "# stats = get_statistics('../../yolo-testing/datasets/bdd100k_night')\n",
    "# stats = get_statistics('../../yolo-testing/datasets/waymo_open_dataset', image_format=\"jpeg\")\n",
    "# stats = get_statistics('../../yolo-testing/datasets/night_Australia')\n",
    "stats = get_statistics('../../yolo-testing/datasets/night_only_Canada')\n",
    "# stats = get_statistics('../../yolo-testing/datasets/night_only_China')\n",
    "for key, value in stats.items():\n",
    "    print(f'{key}: {value}')\n",
    "\n"
   ]
  }
 ],
 "metadata": {
  "kernelspec": {
   "display_name": ".venv",
   "language": "python",
   "name": "python3"
  },
  "language_info": {
   "codemirror_mode": {
    "name": "ipython",
    "version": 3
   },
   "file_extension": ".py",
   "mimetype": "text/x-python",
   "name": "python",
   "nbconvert_exporter": "python",
   "pygments_lexer": "ipython3",
   "version": "3.11.4"
  }
 },
 "nbformat": 4,
 "nbformat_minor": 2
}
