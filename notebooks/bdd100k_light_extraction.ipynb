{
 "cells": [
  {
   "cell_type": "code",
   "execution_count": 5,
   "metadata": {},
   "outputs": [],
   "source": [
    "dataset_path = \"../../yolo-testing/datasets/bdd100k_light\"\n",
    "train_images_path = f\"{dataset_path}/images/train\"\n",
    "val_images_path = f\"{dataset_path}/images/val\"\n",
    "train_labels_path = f\"{dataset_path}/labels/train\"\n",
    "val_labels_path = f\"{dataset_path}/labels/val\"\n",
    "\n",
    "train_labels_file = f\"{dataset_path}/labels/bdd100k_labels_images_train.json\"\n",
    "val_labels_file = f\"{dataset_path}/labels/bdd100k_labels_images_val.json\""
   ]
  },
  {
   "cell_type": "code",
   "execution_count": null,
   "metadata": {},
   "outputs": [
    {
     "name": "stdout",
     "output_type": "stream",
     "text": [
      "loading training labels\n",
      "loading validation labels\n",
      "Example validation labels: [{'name': 'b1c66a42-6f7d68ca.jpg', 'attributes': {'weather': 'overcast', 'scene': 'city street', 'timeofday': 'daytime'}, 'timestamp': 10000, 'labels': [{'category': 'traffic sign', 'attributes': {'occluded': False, 'truncated': False, 'trafficLightColor': 'none'}, 'manualShape': True, 'manualAttributes': True, 'box2d': {'x1': 1000.698742, 'y1': 281.992415, 'x2': 1040.626872, 'y2': 326.91156}, 'id': 0}, {'category': 'traffic sign', 'attributes': {'occluded': False, 'truncated': False, 'trafficLightColor': 'none'}, 'manualShape': True, 'manualAttributes': True, 'box2d': {'x1': 214.613695, 'y1': 172.190058, 'x2': 274.505889, 'y2': 229.586743}, 'id': 1}, {'category': 'traffic sign', 'attributes': {'occluded': False, 'truncated': False, 'trafficLightColor': 'none'}, 'manualShape': True, 'manualAttributes': True, 'box2d': {'x1': 797.314833, 'y1': 313.186265, 'x2': 829.756437, 'y2': 341.884608}, 'id': 2}, {'category': 'traffic sign', 'attributes': {'occluded': False, 'truncated': False, 'trafficLightColor': 'none'}, 'manualShape': True, 'manualAttributes': True, 'box2d': {'x1': 652.575363, 'y1': 303.204232, 'x2': 685.016968, 'y2': 315.681772}, 'id': 3}, {'category': 'traffic light', 'attributes': {'occluded': False, 'truncated': False, 'trafficLightColor': 'green'}, 'manualShape': True, 'manualAttributes': True, 'box2d': {'x1': 707.476543, 'y1': 311.93851, 'x2': 716.210821, 'y2': 328.159313}, 'id': 4}, {'category': 'traffic light', 'attributes': {'occluded': False, 'truncated': False, 'trafficLightColor': 'green'}, 'manualShape': True, 'manualAttributes': True, 'box2d': {'x1': 626.37253, 'y1': 295.717708, 'x2': 636.354562, 'y2': 316.929527}, 'id': 5}, {'category': 'traffic light', 'attributes': {'occluded': False, 'truncated': False, 'trafficLightColor': 'none'}, 'manualShape': True, 'manualAttributes': True, 'box2d': {'x1': 316.929527, 'y1': 289.478938, 'x2': 329.407067, 'y2': 306.947495}, 'id': 6}, {'category': 'traffic sign', 'attributes': {'occluded': False, 'truncated': False, 'trafficLightColor': 'none'}, 'manualShape': True, 'manualAttributes': True, 'box2d': {'x1': 270.762627, 'y1': 288.231184, 'x2': 309.443003, 'y2': 301.956478}, 'id': 7}, {'category': 'traffic sign', 'attributes': {'occluded': True, 'truncated': False, 'trafficLightColor': 'none'}, 'manualShape': True, 'manualAttributes': True, 'box2d': {'x1': 220.852466, 'y1': 300.708724, 'x2': 232.082252, 'y2': 311.938512}, 'id': 8}, {'category': 'car', 'attributes': {'occluded': True, 'truncated': False, 'trafficLightColor': 'none'}, 'manualShape': True, 'manualAttributes': True, 'box2d': {'x1': 205.879417, 'y1': 338.141346, 'x2': 281.992413, 'y2': 388.051507}, 'id': 9}, {'category': 'car', 'attributes': {'occluded': True, 'truncated': False, 'trafficLightColor': 'none'}, 'manualShape': True, 'manualAttributes': True, 'box2d': {'x1': 47.414654, 'y1': 344.380116, 'x2': 129.76642, 'y2': 400.529049}, 'id': 10}, {'category': 'car', 'attributes': {'occluded': True, 'truncated': False, 'trafficLightColor': 'none'}, 'manualShape': True, 'manualAttributes': True, 'box2d': {'x1': 247.0553, 'y1': 344.380116, 'x2': 346.875624, 'y2': 395.538032}, 'id': 11}, {'category': 'car', 'attributes': {'occluded': False, 'truncated': True, 'trafficLightColor': 'none'}, 'manualShape': True, 'manualAttributes': True, 'box2d': {'x1': 0, 'y1': 336.893592, 'x2': 52.40567, 'y2': 403.024556}, 'id': 12}, {'category': 'rider', 'attributes': {'occluded': True, 'truncated': False, 'trafficLightColor': 'none'}, 'manualShape': True, 'manualAttributes': True, 'box2d': {'x1': 650.079856, 'y1': 354.362148, 'x2': 663.805151, 'y2': 381.812737}, 'id': 13}, {'category': 'motor', 'attributes': {'occluded': True, 'truncated': False, 'trafficLightColor': 'none'}, 'manualShape': True, 'manualAttributes': True, 'box2d': {'x1': 648.832101, 'y1': 366.83969, 'x2': 663.805151, 'y2': 388.051507}, 'id': 14}, {'category': 'traffic light', 'attributes': {'occluded': False, 'truncated': False, 'trafficLightColor': 'none'}, 'manualShape': True, 'manualAttributes': True, 'box2d': {'x1': 712.467558, 'y1': 336.893592, 'x2': 726.192853, 'y2': 353.114395}, 'id': 15}, {'category': 'car', 'attributes': {'occluded': True, 'truncated': False, 'trafficLightColor': 'none'}, 'manualShape': True, 'manualAttributes': True, 'box2d': {'x1': 683.769215, 'y1': 356.857655, 'x2': 721.201837, 'y2': 393.042522}, 'id': 16}, {'category': 'car', 'attributes': {'occluded': True, 'truncated': False, 'trafficLightColor': 'none'}, 'manualShape': True, 'manualAttributes': True, 'box2d': {'x1': 706.228788, 'y1': 364.344179, 'x2': 733.679378, 'y2': 390.547015}, 'id': 17}, {'category': 'car', 'attributes': {'occluded': True, 'truncated': False, 'trafficLightColor': 'none'}, 'manualShape': True, 'manualAttributes': True, 'box2d': {'x1': 727.440607, 'y1': 365.591935, 'x2': 761.129966, 'y2': 400.529049}, 'id': 18}, {'category': 'car', 'attributes': {'occluded': True, 'truncated': False, 'trafficLightColor': 'none'}, 'manualShape': True, 'manualAttributes': True, 'box2d': {'x1': 748.652426, 'y1': 361.848672, 'x2': 808.54462, 'y2': 409.263326}, 'id': 19}, {'category': 'car', 'attributes': {'occluded': True, 'truncated': False, 'trafficLightColor': 'none'}, 'manualShape': True, 'manualAttributes': True, 'box2d': {'x1': 787.332801, 'y1': 358.10541, 'x2': 905.869435, 'y2': 425.484129}, 'id': 20}, {'category': 'car', 'attributes': {'occluded': True, 'truncated': False, 'trafficLightColor': 'none'}, 'manualShape': True, 'manualAttributes': True, 'box2d': {'x1': 879.6666, 'y1': 375.573967, 'x2': 959.522859, 'y2': 451.686963}, 'id': 21}, {'category': 'car', 'attributes': {'occluded': False, 'truncated': False, 'trafficLightColor': 'none'}, 'manualShape': True, 'manualAttributes': True, 'box2d': {'x1': 935.815532, 'y1': 335.645837, 'x2': 1211.569175, 'y2': 484.128569}, 'id': 22}, {'category': 'car', 'attributes': {'occluded': False, 'truncated': True, 'trafficLightColor': 'none'}, 'manualShape': True, 'manualAttributes': True, 'box2d': {'x1': 1204.082651, 'y1': 415.502097, 'x2': 1278.947894, 'y2': 530.295469}, 'id': 23}, {'category': 'traffic light', 'attributes': {'occluded': False, 'truncated': False, 'trafficLightColor': 'green'}, 'manualShape': True, 'manualAttributes': True, 'box2d': {'x1': 602.665203, 'y1': 340.636854, 'x2': 610.151727, 'y2': 353.114395}, 'id': 24}, {'category': 'traffic light', 'attributes': {'occluded': False, 'truncated': False, 'trafficLightColor': 'green'}, 'manualShape': True, 'manualAttributes': True, 'box2d': {'x1': 591.435416, 'y1': 328.159313, 'x2': 597.674186, 'y2': 341.884608}, 'id': 25}, {'category': 'traffic light', 'attributes': {'occluded': False, 'truncated': False, 'trafficLightColor': 'green'}, 'manualShape': True, 'manualAttributes': True, 'box2d': {'x1': 529.047714, 'y1': 331.902575, 'x2': 536.534238, 'y2': 341.884608}, 'id': 26}, {'category': 'car', 'attributes': {'occluded': False, 'truncated': False, 'trafficLightColor': 'none'}, 'manualShape': True, 'manualAttributes': True, 'box2d': {'x1': 551.507287, 'y1': 355.609902, 'x2': 565.232581, 'y2': 368.087443}, 'id': 27}, {'category': 'car', 'attributes': {'occluded': True, 'truncated': False, 'trafficLightColor': 'none'}, 'manualShape': True, 'manualAttributes': True, 'box2d': {'x1': 573.966861, 'y1': 351.86664, 'x2': 586.444401, 'y2': 369.335197}, 'id': 28}, {'category': 'car', 'attributes': {'occluded': True, 'truncated': False, 'trafficLightColor': 'none'}, 'manualShape': True, 'manualAttributes': True, 'box2d': {'x1': 581.453385, 'y1': 356.857655, 'x2': 597.674187, 'y2': 378.069474}, 'id': 29}, {'category': 'car', 'attributes': {'occluded': False, 'truncated': False, 'trafficLightColor': 'none'}, 'manualShape': True, 'manualAttributes': True, 'box2d': {'x1': 596.426432, 'y1': 351.86664, 'x2': 636.354562, 'y2': 385.555999}, 'id': 30}, {'category': 'car', 'attributes': {'occluded': True, 'truncated': False, 'trafficLightColor': 'none'}, 'manualShape': True, 'manualAttributes': True, 'box2d': {'x1': 517.817928, 'y1': 355.609902, 'x2': 535.286484, 'y2': 368.087443}, 'id': 31}, {'category': 'car', 'attributes': {'occluded': True, 'truncated': False, 'trafficLightColor': 'none'}, 'manualShape': True, 'manualAttributes': True, 'box2d': {'x1': 501.597125, 'y1': 356.857655, 'x2': 517.817928, 'y2': 370.58295}, 'id': 32}, {'category': 'car', 'attributes': {'occluded': True, 'truncated': False, 'trafficLightColor': 'none'}, 'manualShape': True, 'manualAttributes': True, 'box2d': {'x1': 452.934718, 'y1': 353.114393, 'x2': 479.137552, 'y2': 373.078459}, 'id': 33}, {'category': 'drivable area', 'attributes': {'areaType': 'direct'}, 'manualShape': True, 'manualAttributes': True, 'poly2d': [{'vertices': [[241.143645, 697.923453], [541.525255, 380.564983], [583.948892, 378.069475], [960.034755, 676.955796], [715.911316, 664.974278], [491.257843, 664.974278], [241.143645, 697.923453]], 'types': 'LLLLCCC', 'closed': True}], 'id': 34}, {'category': 'drivable area', 'attributes': {'areaType': 'alternative'}, 'manualShape': True, 'manualAttributes': True, 'poly2d': [{'vertices': [[986.993172, 682.946555], [620.059168, 396.887801], [681.46445, 392.394731], [1280.52479, 567.624439], [1280.52479, 697.923453], [986.993172, 682.946555]], 'types': 'LLLLLL', 'closed': True}], 'id': 35}, {'category': 'lane', 'attributes': {'laneDirection': 'parallel', 'laneStyle': 'solid', 'laneType': 'single yellow'}, 'manualShape': True, 'manualAttributes': True, 'poly2d': [{'vertices': [[540.443883, 385.603214], [363.625829, 572.410989]], 'types': 'LL', 'closed': False}], 'id': 36}, {'category': 'lane', 'attributes': {'laneDirection': 'parallel', 'laneStyle': 'solid', 'laneType': 'single yellow'}, 'manualShape': True, 'manualAttributes': True, 'poly2d': [{'vertices': [[535.449023, 382.606298], [356.633025, 562.42127]], 'types': 'LL', 'closed': False}], 'id': 37}, {'category': 'lane', 'attributes': {'laneDirection': 'parallel', 'laneStyle': 'solid', 'laneType': 'double yellow'}, 'manualShape': True, 'manualAttributes': True, 'poly2d': [{'vertices': [[362.626857, 579.403793], [234.758434, 700.279412]], 'types': 'LL', 'closed': False}], 'id': 38}, {'category': 'lane', 'attributes': {'laneDirection': 'parallel', 'laneStyle': 'solid', 'laneType': 'double yellow'}, 'manualShape': True, 'manualAttributes': True, 'poly2d': [{'vertices': [[316.674142, 569.414073], [151.843753, 708.271189]], 'types': 'LL', 'closed': False}], 'id': 39}, {'category': 'lane', 'attributes': {'laneDirection': 'parallel', 'laneStyle': 'solid', 'laneType': 'single yellow'}, 'manualShape': True, 'manualAttributes': True, 'poly2d': [{'vertices': [[224.768713, 535.449023], [435.551817, 426.561069]], 'types': 'LL', 'closed': False}], 'id': 40}, {'category': 'lane', 'attributes': {'laneDirection': 'parallel', 'laneStyle': 'solid', 'laneType': 'single yellow'}, 'manualShape': True, 'manualAttributes': True, 'poly2d': [{'vertices': [[211.782076, 533.451079], [427.560041, 425.562097]], 'types': 'LL', 'closed': False}], 'id': 41}, {'category': 'lane', 'attributes': {'laneDirection': 'parallel', 'laneStyle': 'solid', 'laneType': 'road curb'}, 'manualShape': True, 'manualAttributes': True, 'poly2d': [{'vertices': [[515.469582, 384.604242], [0, 616.36576]], 'types': 'LL', 'closed': False}], 'id': 42}, {'category': 'lane', 'attributes': {'laneDirection': 'parallel', 'laneStyle': 'solid', 'laneType': 'road curb'}, 'manualShape': True, 'manualAttributes': True, 'poly2d': [{'vertices': [[205.788244, 383.60527], [128.867395, 392.596019]], 'types': 'LL', 'closed': False}], 'id': 43}, {'category': 'lane', 'attributes': {'laneDirection': 'vertical', 'laneStyle': 'dashed', 'laneType': 'crosswalk'}, 'manualShape': True, 'manualAttributes': True, 'poly2d': [{'vertices': [[549.434632, 384.604242], [612.369871, 385.603214]], 'types': 'LL', 'closed': False}], 'id': 44}, {'category': 'lane', 'attributes': {'laneDirection': 'vertical', 'laneStyle': 'dashed', 'laneType': 'crosswalk'}, 'manualShape': True, 'manualAttributes': True, 'poly2d': [{'vertices': [[545.438744, 377.611438], [596.386318, 379.609382]], 'types': 'LL', 'closed': False}], 'id': 45}, {'category': 'lane', 'attributes': {'laneDirection': 'parallel', 'laneStyle': 'dashed', 'laneType': 'single white'}, 'manualShape': True, 'manualAttributes': True, 'poly2d': [{'vertices': [[592.39043, 388.60013], [967.004952, 676.304083]], 'types': 'LL', 'closed': False}], 'id': 46}, {'category': 'lane', 'attributes': {'laneDirection': 'parallel', 'laneStyle': 'dashed', 'laneType': 'single white'}, 'manualShape': True, 'manualAttributes': True, 'poly2d': [{'vertices': [[599.383235, 388.60013], [987.983365, 679.300999]], 'types': 'LL', 'closed': False}], 'id': 47}, {'category': 'lane', 'attributes': {'laneDirection': 'parallel', 'laneStyle': 'dashed', 'laneType': 'single white'}, 'manualShape': True, 'manualAttributes': True, 'poly2d': [{'vertices': [[669.311279, 393.594991], [1279.683206, 581.401738]], 'types': 'LL', 'closed': False}], 'id': 48}, {'category': 'lane', 'attributes': {'laneDirection': 'parallel', 'laneStyle': 'solid', 'laneType': 'single white'}, 'manualShape': True, 'manualAttributes': True, 'poly2d': [{'vertices': [[0, 439.547705], [222.770769, 408.579572]], 'types': 'LL', 'closed': False}], 'id': 49}, {'category': 'lane', 'attributes': {'laneDirection': 'parallel', 'laneStyle': 'solid', 'laneType': 'single white'}, 'manualShape': True, 'manualAttributes': True, 'poly2d': [{'vertices': [[1.997944, 433.553873], [222.770769, 402.585739]], 'types': 'LL', 'closed': False}], 'id': 50}]}, {'name': 'b1c81faa-3df17267.jpg', 'attributes': {'weather': 'clear', 'scene': 'highway', 'timeofday': 'night'}, 'timestamp': 10000, 'labels': [{'category': 'car', 'attributes': {'occluded': False, 'truncated': False, 'trafficLightColor': 'none'}, 'manualShape': True, 'manualAttributes': True, 'box2d': {'x1': 819.464053, 'y1': 280.082505, 'x2': 889.23726, 'y2': 312.742305}, 'id': 51}, {'category': 'car', 'attributes': {'occluded': False, 'truncated': False, 'trafficLightColor': 'none'}, 'manualShape': True, 'manualAttributes': True, 'box2d': {'x1': 1027.299139, 'y1': 290.47426, 'x2': 1052.536255, 'y2': 306.804159}, 'id': 52}, {'category': 'traffic sign', 'attributes': {'occluded': False, 'truncated': False, 'trafficLightColor': 'none'}, 'manualShape': True, 'manualAttributes': True, 'box2d': {'x1': 1061.443474, 'y1': 234.061879, 'x2': 1134.185754, 'y2': 265.237142}, 'id': 53}, {'category': 'traffic light', 'attributes': {'occluded': False, 'truncated': False, 'trafficLightColor': 'green'}, 'manualShape': True, 'manualAttributes': True, 'box2d': {'x1': 1005.031094, 'y1': 263.752617, 'x2': 1030.26821, 'y2': 280.082518}, 'id': 54}, {'category': 'drivable area', 'attributes': {'areaType': 'alternative'}, 'manualShape': True, 'manualAttributes': True, 'poly2d': [{'vertices': [[552.663126, 539.168333], [912.108681, 320.50562], [891.141024, 314.514861], [0, 500.228398], [0, 561.633679], [169.254534, 536.172952], [365.451899, 536.172952], [552.663126, 539.168333]], 'types': 'LLLLLCCC', 'closed': True}], 'id': 55}, {'category': 'drivable area', 'attributes': {'areaType': 'direct'}, 'manualShape': True, 'manualAttributes': True, 'poly2d': [{'vertices': [[576.626163, 545.159092], [948.053237, 317.51024], [1012.453899, 323.500999], [1280.52479, 546.656782], [1276.047306, 720.3888], [1226.623543, 720.3888], [1022.937728, 605.066685], [859.689538, 581.103648], [576.626163, 545.159092]], 'types': 'LLLLLLCCC', 'closed': True}], 'id': 56}, {'category': 'lane', 'attributes': {'laneDirection': 'parallel', 'laneStyle': 'solid', 'laneType': 'road curb'}, 'manualShape': True, 'manualAttributes': True, 'poly2d': [{'vertices': [[646.69043, 324.704116], [0, 368.614097]], 'types': 'LL', 'closed': False}], 'id': 57}, {'category': 'lane', 'attributes': {'laneDirection': 'parallel', 'laneStyle': 'solid', 'laneType': 'road curb'}, 'manualShape': True, 'manualAttributes': True, 'poly2d': [{'vertices': [[1267.418437, 465.748295], [1042.545912, 326.034722]], 'types': 'LL', 'closed': False}], 'id': 58}, {'category': 'lane', 'attributes': {'laneDirection': 'parallel', 'laneStyle': 'dashed', 'laneType': 'single white'}, 'manualShape': True, 'manualAttributes': True, 'poly2d': [{'vertices': [[530.927649, 342.66729], [0, 372.605913]], 'types': 'LL', 'closed': False}], 'id': 59}, {'category': 'lane', 'attributes': {'laneDirection': 'parallel', 'laneStyle': 'dashed', 'laneType': 'single white'}, 'manualShape': True, 'manualAttributes': True, 'poly2d': [{'vertices': [[527.601134, 345.993804], [0, 381.920151]], 'types': 'LL', 'closed': False}], 'id': 60}, {'category': 'lane', 'attributes': {'laneDirection': 'parallel', 'laneStyle': 'dashed', 'laneType': 'single white'}, 'manualShape': True, 'manualAttributes': True, 'poly2d': [{'vertices': [[652.67816, 332.022446], [0, 415.850591]], 'types': 'LL', 'closed': False}], 'id': 61}, {'category': 'lane', 'attributes': {'laneDirection': 'parallel', 'laneStyle': 'dashed', 'laneType': 'single white'}, 'manualShape': True, 'manualAttributes': True, 'poly2d': [{'vertices': [[946.076928, 310.732759], [815.012172, 375.932426], [655.339373, 478.389047], [532.923562, 553.568256]], 'types': 'CCCL', 'closed': False}], 'id': 62}, {'category': 'lane', 'attributes': {'laneDirection': 'parallel', 'laneStyle': 'dashed', 'laneType': 'single white'}, 'manualShape': True, 'manualAttributes': True, 'poly2d': [{'vertices': [[561.531603, 559.55598], [691.244546, 478.349211], [820.999901, 376.59773], [952.729962, 318.716392]], 'types': 'CCCL', 'closed': False}], 'id': 63}, {'category': 'lane', 'attributes': {'laneDirection': 'parallel', 'laneStyle': 'solid', 'laneType': 'single white'}, 'manualShape': True, 'manualAttributes': True, 'poly2d': [{'vertices': [[1029.905147, 322.708208], [1051.860157, 356.638646], [1098.431391, 387.907876], [1280.033212, 516.311303]], 'types': 'CCCL', 'closed': False}], 'id': 64}, {'category': 'lane', 'attributes': {'laneDirection': 'parallel', 'laneStyle': 'solid', 'laneType': 'single white'}, 'manualShape': True, 'manualAttributes': True, 'poly2d': [{'vertices': [[1277.397987, 535.605082], [1191.548587, 465.043251], [1046.537731, 363.956977], [1019.925598, 324.704116]], 'types': 'CCCL', 'closed': False}], 'id': 65}, {'category': 'lane', 'attributes': {'laneDirection': 'parallel', 'laneStyle': 'solid', 'laneType': 'double yellow'}, 'manualShape': True, 'manualAttributes': True, 'poly2d': [{'vertices': [[812.350959, 324.038813], [547.560233, 367.948794], [281.438902, 423.834223], [0, 476.395377]], 'types': 'CCCL', 'closed': False}], 'id': 66}, {'category': 'lane', 'attributes': {'laneDirection': 'parallel', 'laneStyle': 'solid', 'laneType': 'double yellow'}, 'manualShape': True, 'manualAttributes': True, 'poly2d': [{'vertices': [[813.016263, 330.026539], [541.572504, 379.924243], [316.034674, 428.491342], [0, 498.348128]], 'types': 'CCCL', 'closed': False}], 'id': 67}]}]\n",
      "Example training lables: [{'name': '0000f77c-6257be58.jpg', 'attributes': {'weather': 'clear', 'scene': 'city street', 'timeofday': 'daytime'}, 'timestamp': 10000, 'labels': [{'category': 'traffic light', 'attributes': {'occluded': False, 'truncated': False, 'trafficLightColor': 'green'}, 'manualShape': True, 'manualAttributes': True, 'box2d': {'x1': 1125.902264, 'y1': 133.184488, 'x2': 1156.978645, 'y2': 210.875445}, 'id': 0}, {'category': 'traffic light', 'attributes': {'occluded': False, 'truncated': False, 'trafficLightColor': 'green'}, 'manualShape': True, 'manualAttributes': True, 'box2d': {'x1': 1156.978645, 'y1': 136.637417, 'x2': 1191.50796, 'y2': 210.875443}, 'id': 1}, {'category': 'traffic sign', 'attributes': {'occluded': False, 'truncated': False, 'trafficLightColor': 'none'}, 'manualShape': True, 'manualAttributes': True, 'box2d': {'x1': 1101.731743, 'y1': 211.122087, 'x2': 1170.79037, 'y2': 233.566141}, 'id': 2}, {'category': 'traffic sign', 'attributes': {'occluded': False, 'truncated': True, 'trafficLightColor': 'none'}, 'manualShape': True, 'manualAttributes': True, 'box2d': {'x1': 0, 'y1': 0.246631, 'x2': 100.381647, 'y2': 122.825696}, 'id': 3}, {'category': 'car', 'attributes': {'occluded': False, 'truncated': False, 'trafficLightColor': 'none'}, 'manualShape': True, 'manualAttributes': True, 'box2d': {'x1': 45.240919, 'y1': 254.530367, 'x2': 357.805838, 'y2': 487.906215}, 'id': 4}, {'category': 'car', 'attributes': {'occluded': False, 'truncated': False, 'trafficLightColor': 'none'}, 'manualShape': True, 'manualAttributes': True, 'box2d': {'x1': 507.82755, 'y1': 221.727518, 'x2': 908.367588, 'y2': 442.715126}, 'id': 5}, {'category': 'traffic sign', 'attributes': {'occluded': False, 'truncated': True, 'trafficLightColor': 'none'}, 'manualShape': True, 'manualAttributes': True, 'box2d': {'x1': 0.156955, 'y1': 0.809282, 'x2': 102.417429, 'y2': 133.411856}, 'id': 6}, {'category': 'drivable area', 'attributes': {'areaType': 'direct'}, 'manualShape': True, 'manualAttributes': True, 'poly2d': [{'vertices': [[1280.195648, 626.372529], [1280.195648, 371.830705], [927.081254, 366.839689], [872.180076, 427.979637], [658.814135, 450.439209], [585.196646, 426.731883], [0, 517.817928], [0, 602.665203], [497.853863, 540.2775], [927.081254, 571.471352], [1280.195648, 626.372529]], 'types': 'LLLLLLLLCCC', 'closed': True}], 'id': 7}, {'category': 'lane', 'attributes': {'laneDirection': 'parallel', 'laneStyle': 'solid', 'laneType': 'road curb'}, 'manualShape': True, 'manualAttributes': True, 'poly2d': [{'vertices': [[503.674413, 373.137193], [357.797732, 374.672737]], 'types': 'LL', 'closed': False}], 'id': 8}, {'category': 'lane', 'attributes': {'laneDirection': 'parallel', 'laneStyle': 'solid', 'laneType': 'road curb'}, 'manualShape': True, 'manualAttributes': True, 'poly2d': [{'vertices': [[62.973282, 371.601649], [0, 368.53056]], 'types': 'LL', 'closed': False}], 'id': 9}, {'category': 'lane', 'attributes': {'laneDirection': 'parallel', 'laneStyle': 'solid', 'laneType': 'road curb'}, 'manualShape': True, 'manualAttributes': True, 'poly2d': [{'vertices': [[1274.517503, 376.208281], [905.986941, 371.601649]], 'types': 'LL', 'closed': False}], 'id': 10}]}, {'name': '0000f77c-62c2a288.jpg', 'attributes': {'weather': 'clear', 'scene': 'highway', 'timeofday': 'dawn/dusk'}, 'timestamp': 10000, 'labels': [{'category': 'traffic sign', 'attributes': {'occluded': False, 'truncated': False, 'trafficLightColor': 'none'}, 'manualShape': True, 'manualAttributes': True, 'box2d': {'x1': 250.549246, 'y1': 294.619798, 'x2': 308.085801, 'y2': 357.05308}, 'id': 11}, {'category': 'traffic sign', 'attributes': {'occluded': True, 'truncated': False, 'trafficLightColor': 'none'}, 'manualShape': True, 'manualAttributes': True, 'box2d': {'x1': 206.478694, 'y1': 299.516526, 'x2': 221.16888, 'y2': 321.551802}, 'id': 12}, {'category': 'traffic sign', 'attributes': {'occluded': False, 'truncated': False, 'trafficLightColor': 'none'}, 'manualShape': True, 'manualAttributes': True, 'box2d': {'x1': 924.665474, 'y1': 286.866651, 'x2': 936.907294, 'y2': 297.884289}, 'id': 13}, {'category': 'person', 'attributes': {'occluded': False, 'truncated': False, 'trafficLightColor': 'none'}, 'manualShape': True, 'manualAttributes': True, 'box2d': {'x1': 423.158909, 'y1': 336.241987, 'x2': 434.176547, 'y2': 358.277263}, 'id': 14}, {'category': 'person', 'attributes': {'occluded': False, 'truncated': False, 'trafficLightColor': 'none'}, 'manualShape': True, 'manualAttributes': True, 'box2d': {'x1': 563.939839, 'y1': 324.000165, 'x2': 573.733294, 'y2': 348.483804}, 'id': 15}, {'category': 'person', 'attributes': {'occluded': True, 'truncated': False, 'trafficLightColor': 'none'}, 'manualShape': True, 'manualAttributes': True, 'box2d': {'x1': 656.977672, 'y1': 315.838956, 'x2': 666.771127, 'y2': 345.219323}, 'id': 16}, {'category': 'drivable area', 'attributes': {'areaType': 'direct'}, 'manualShape': True, 'manualAttributes': True, 'poly2d': [{'vertices': [[370.582951, 571.471352], [620.13376, 409.263326], [726.192854, 364.34418], [823.517669, 336.893591], [843.481732, 350.618886], [733.679377, 383.060491], [994.459972, 506.588141], [1106.757835, 600.169695], [864.693551, 571.471352], [625.124775, 556.498302], [370.582951, 571.471352]], 'types': 'LCCCLCCCCCC', 'closed': True}], 'id': 17}, {'category': 'drivable area', 'attributes': {'areaType': 'alternative'}, 'manualShape': True, 'manualAttributes': True, 'poly2d': [{'vertices': [[351.86664, 572.719106], [500.349372, 484.12857], [612.647235, 381.812737], [790.821141, 343.961857], [512.826912, 378.069476], [259.532841, 455.430226], [0, 515.32242], [0, 600.397706], [119.788411, 581.971178], [242.631932, 574.293458], [351.86664, 572.719106]], 'types': 'LCCCCCCLCCC', 'closed': True}], 'id': 18}, {'category': 'drivable area', 'attributes': {'areaType': 'alternative'}, 'manualShape': True, 'manualAttributes': True, 'poly2d': [{'vertices': [[0, 506.588141], [0, 455.430226], [224.595728, 414.254341], [460.421243, 373.078459], [743.219277, 345.497401], [455.430226, 385.555999], [229.586744, 449.191455], [0, 506.588141]], 'types': 'LLCCCCCC', 'closed': True}], 'id': 19}, {'category': 'lane', 'attributes': {'laneDirection': 'parallel', 'laneStyle': 'solid', 'laneType': 'road curb'}, 'manualShape': True, 'manualAttributes': True, 'poly2d': [{'vertices': [[1230.99113, 620.749416], [1097.642939, 531.482176], [826.538354, 414.663319], [829.844506, 367.274536]], 'types': 'CCCL', 'closed': False}], 'id': 20}, {'category': 'lane', 'attributes': {'laneDirection': 'parallel', 'laneStyle': 'solid', 'laneType': 'road curb'}, 'manualShape': True, 'manualAttributes': True, 'poly2d': [{'vertices': [[889.355269, 332.008466], [601.719915, 348.539436], [299.757899, 400.336477], [23.143057, 447.725259]], 'types': 'CCCL', 'closed': False}], 'id': 21}, {'category': 'lane', 'attributes': {'laneDirection': 'parallel', 'laneStyle': 'solid', 'laneType': 'single white'}, 'manualShape': True, 'manualAttributes': True, 'poly2d': [{'vertices': [[28.653314, 451.031454], [251.267647, 411.357124], [460.657368, 377.193118], [674.455293, 352.947695]], 'types': 'CCCL', 'closed': False}], 'id': 22}, {'category': 'lane', 'attributes': {'laneDirection': 'parallel', 'laneStyle': 'solid', 'laneType': 'single white'}, 'manualShape': True, 'manualAttributes': True, 'poly2d': [{'vertices': [[722.945545, 351.84563], [482.698391, 380.499314], [241.347048, 456.245103], [0, 510.542947]], 'types': 'CCCL', 'closed': False}], 'id': 23}, {'category': 'lane', 'attributes': {'laneDirection': 'parallel', 'laneStyle': 'solid', 'laneType': 'single white'}, 'manualShape': True, 'manualAttributes': True, 'poly2d': [{'vertices': [[1143.929088, 604.218446], [1020.499358, 524.869787], [781.354256, 383.805506], [827.640405, 363.968343]], 'types': 'CCCL', 'closed': False}], 'id': 24}, {'category': 'lane', 'attributes': {'laneDirection': 'parallel', 'laneStyle': 'solid', 'laneType': 'single white'}, 'manualShape': True, 'manualAttributes': True, 'poly2d': [{'vertices': [[1114.173706, 604.218446], [1006.172692, 516.05327], [804.49733, 417.969512], [817.721944, 363.968343]], 'types': 'CCCL', 'closed': False}], 'id': 25}, {'category': 'lane', 'attributes': {'laneDirection': 'parallel', 'laneStyle': 'dashed', 'laneType': 'single white'}, 'manualShape': True, 'manualAttributes': True, 'poly2d': [{'vertices': [[795.68092, 345.233243], [628.169145, 370.580731], [504.739416, 482.991329], [370.289173, 571.156505]], 'types': 'CCCL', 'closed': False}], 'id': 26}, {'category': 'lane', 'attributes': {'laneDirection': 'parallel', 'laneStyle': 'dashed', 'laneType': 'single white'}, 'manualShape': True, 'manualAttributes': True, 'poly2d': [{'vertices': [[387.921992, 573.360634], [531.188642, 465.358295], [653.51632, 377.193118], [792.374768, 350.743566]], 'types': 'CCCL', 'closed': False}], 'id': 27}]}]\n",
      "Total validation labels: 10000\n",
      "Total training lables: 69863\n"
     ]
    }
   ],
   "source": [
    "import json\n",
    "\n",
    "print(\"loading training labels\")\n",
    "with open(train_labels_file) as f:\n",
    "    train_labels = json.load(f)\n",
    "\n",
    "print(\"loading validation labels\")\n",
    "with open(val_labels_file) as f:\n",
    "    val_labels = json.load(f)\n",
    "\n",
    "print(f\"Example validation labels: {val_labels[:2]}\")\n",
    "print(f\"Example training lables: {train_labels[:2]}\")\n",
    "\n",
    "total_val = len(val_labels)\n",
    "print(f\"Total validation labels: {total_val}\")\n",
    "total_train = len(train_labels)\n",
    "print(f\"Total training lables: {total_train}\")"
   ]
  },
  {
   "cell_type": "code",
   "execution_count": 12,
   "metadata": {},
   "outputs": [
    {
     "name": "stdout",
     "output_type": "stream",
     "text": [
      "Time of day attributes in validation labels: ['night', 'dawn/dusk', 'daytime', 'undefined']\n",
      "Number of training labels during the day: 36728\n",
      "Number of training labels during the night: 27971\n",
      "Number of training labels during dawn/dusk: 5027\n",
      "Number of training labels during unknown time: 137\n",
      "Total training labels: 69863\n",
      "Number of validation labels during the day: 5258\n",
      "Number of validation labels during the night: 3929\n",
      "Number of validation labels during dawn/dusk: 778\n",
      "Number of validation labels during unknown time: 35\n",
      "Total validation labels: 10000\n"
     ]
    }
   ],
   "source": [
    "def get_timeofday_attributes(labels: list) -> list:\n",
    "    return list(set([label[\"attributes\"][\"timeofday\"] for label in labels]))\n",
    "\n",
    "timeofday_attributes = get_timeofday_attributes(val_labels)\n",
    "print(f\"Time of day attributes in validation labels: {timeofday_attributes}\")\n",
    "\n",
    "def get_labels_timeofday(labels: list, time: str) -> list:\n",
    "    return [label for label in labels if label[\"attributes\"][\"timeofday\"] == time]\n",
    "\n",
    "num_train_day = len(get_labels_timeofday(train_labels, \"daytime\"))\n",
    "num_train_night = len(get_labels_timeofday(train_labels, \"night\"))\n",
    "num_train_dawn = len(get_labels_timeofday(train_labels, \"dawn/dusk\"))\n",
    "num_train_unknown = len(get_labels_timeofday(train_labels, \"undefined\"))\n",
    "print(f\"Number of training labels during the day: {num_train_day}\")\n",
    "print(f\"Number of training labels during the night: {num_train_night}\")\n",
    "print(f\"Number of training labels during dawn/dusk: {num_train_dawn}\")\n",
    "print(f\"Number of training labels during unknown time: {num_train_unknown}\")\n",
    "print(f\"Total training labels: {num_train_day + num_train_night + num_train_dawn + num_train_unknown}\")\n",
    "\n",
    "num_val_day = len(get_labels_timeofday(val_labels, \"daytime\"))\n",
    "num_val_night = len(get_labels_timeofday(val_labels, \"night\"))\n",
    "num_val_dawn = len(get_labels_timeofday(val_labels, \"dawn/dusk\"))\n",
    "num_val_unknown = len(get_labels_timeofday(val_labels, \"undefined\"))\n",
    "print(f\"Number of validation labels during the day: {num_val_day}\")\n",
    "print(f\"Number of validation labels during the night: {num_val_night}\")\n",
    "print(f\"Number of validation labels during dawn/dusk: {num_val_dawn}\")\n",
    "print(f\"Number of validation labels during unknown time: {num_val_unknown}\")\n",
    "print(f\"Total validation labels: {num_val_day + num_val_night + num_val_dawn + num_val_unknown}\")\n",
    "\n"
   ]
  },
  {
   "cell_type": "code",
   "execution_count": 24,
   "metadata": {},
   "outputs": [
    {
     "name": "stdout",
     "output_type": "stream",
     "text": [
      "Removed 0 images\n",
      "Removed 3929 labels\n",
      "Removed 0 images\n",
      "Removed 27971 labels\n"
     ]
    },
    {
     "data": {
      "text/plain": [
       "0"
      ]
     },
     "execution_count": 24,
     "metadata": {},
     "output_type": "execute_result"
    }
   ],
   "source": [
    "import os\n",
    "\n",
    "val_night = get_labels_timeofday(val_labels, \"night\")\n",
    "train_night = get_labels_timeofday(train_labels, \"night\")\n",
    "\n",
    "def remove_labels_and_images(labels: list, images_path: str, labels_path: str) -> int: \n",
    "    count = 0\n",
    "    count_labels = 0\n",
    "    for label in labels:\n",
    "        if os.path.exists(f\"{images_path}/{label['name']}\"):\n",
    "            count += 1\n",
    "            os.remove(f\"{images_path}/{label['name']}\")\n",
    "        if os.path.exists(f\"{labels_path}/{label['name'].replace('jpg', 'txt')}\"):\n",
    "            count_labels += 1\n",
    "            os.remove(f\"{labels_path}/{label['name'].replace('jpg', 'txt')}\")\n",
    "    print(f\"Removed {count} images\")\n",
    "    print(f\"Removed {count_labels} labels\")\n",
    "\n",
    "    return count\n",
    "\n",
    "remove_labels_and_images(val_night, val_images_path, val_labels_path)\n",
    "remove_labels_and_images(train_night, train_images_path, train_labels_path)"
   ]
  },
  {
   "cell_type": "code",
   "execution_count": 26,
   "metadata": {},
   "outputs": [
    {
     "name": "stdout",
     "output_type": "stream",
     "text": [
      "Number of training images: 41892\n",
      "Number of validation images: 6071\n",
      "Number of training labels: 41892\n",
      "Number of validation labels: 6071\n",
      "Sum of training labels -night: 41892\n",
      "Sum of validation labels -night: 6071\n"
     ]
    }
   ],
   "source": [
    "import glob\n",
    "\n",
    "num_train_images = len(glob.glob(f\"{train_images_path}/*.jpg\"))\n",
    "num_val_images = len(glob.glob(f\"{val_images_path}/*.jpg\"))\n",
    "print(f\"Number of training images: {num_train_images}\")\n",
    "print(f\"Number of validation images: {num_val_images}\")\n",
    "\n",
    "num_train_labels = len(glob.glob(f\"{train_labels_path}/*.txt\"))\n",
    "num_val_labels = len(glob.glob(f\"{val_labels_path}/*.txt\"))\n",
    "print(f\"Number of training labels: {num_train_labels}\")\n",
    "print(f\"Number of validation labels: {num_val_labels}\")\n",
    "\n",
    "sum_train = num_train_day + num_train_dawn + num_train_unknown\n",
    "print(f\"Sum of training labels -night: {sum_train}\")\n",
    "sum_val = num_val_day + num_val_dawn + num_val_unknown\n",
    "print(f\"Sum of validation labels -night: {sum_val}\")"
   ]
  },
  {
   "cell_type": "code",
   "execution_count": 6,
   "metadata": {},
   "outputs": [
    {
     "name": "stdout",
     "output_type": "stream",
     "text": [
      "Number of training BG images: 114\n",
      "Number of validation BG images: 21\n",
      "Toal number of BG images: 135\n"
     ]
    }
   ],
   "source": [
    "import glob\n",
    "\n",
    "def num_bg_images(labels_path: str) -> int:\n",
    "    \"\"\"\n",
    "    BG images are images with empty labels\n",
    "    \"\"\"\n",
    "    labels = glob.glob(f\"{labels_path}/*.txt\")\n",
    "    count = 0\n",
    "    for label in labels:\n",
    "        with open(label) as f:\n",
    "            if len(f.readlines()) == 0:\n",
    "                count += 1\n",
    "    return count\n",
    "\n",
    "num_train_bg = num_bg_images(train_labels_path)\n",
    "num_val_bg = num_bg_images(val_labels_path)\n",
    "print(f\"Number of training BG images: {num_train_bg}\")\n",
    "print(f\"Number of validation BG images: {num_val_bg}\")\n",
    "print(f\"Toal number of BG images: {num_train_bg + num_val_bg}\")\n"
   ]
  }
 ],
 "metadata": {
  "kernelspec": {
   "display_name": ".venv",
   "language": "python",
   "name": "python3"
  },
  "language_info": {
   "codemirror_mode": {
    "name": "ipython",
    "version": 3
   },
   "file_extension": ".py",
   "mimetype": "text/x-python",
   "name": "python",
   "nbconvert_exporter": "python",
   "pygments_lexer": "ipython3",
   "version": "3.11.4"
  }
 },
 "nbformat": 4,
 "nbformat_minor": 2
}
