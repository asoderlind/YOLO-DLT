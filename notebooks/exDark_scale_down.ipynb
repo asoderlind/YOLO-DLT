{
 "cells": [
  {
   "cell_type": "code",
   "execution_count": null,
   "metadata": {},
   "outputs": [
    {
     "ename": "AttributeError",
     "evalue": "module 'PIL.Image' has no attribute 'ANTIALIAS'",
     "output_type": "error",
     "traceback": [
      "\u001b[0;31m---------------------------------------------------------------------------\u001b[0m",
      "\u001b[0;31mAttributeError\u001b[0m                            Traceback (most recent call last)",
      "Cell \u001b[0;32mIn[1], line 36\u001b[0m\n\u001b[1;32m     34\u001b[0m folder_path \u001b[38;5;241m=\u001b[39m \u001b[38;5;124m'\u001b[39m\u001b[38;5;124m../../yolo-testing/datasets/exDark-yolo/images/train\u001b[39m\u001b[38;5;124m'\u001b[39m\n\u001b[1;32m     35\u001b[0m max_width \u001b[38;5;241m=\u001b[39m \u001b[38;5;241m800\u001b[39m\n\u001b[0;32m---> 36\u001b[0m \u001b[43mresize_images_in_folder\u001b[49m\u001b[43m(\u001b[49m\u001b[43mfolder_path\u001b[49m\u001b[43m,\u001b[49m\u001b[43m \u001b[49m\u001b[43mmax_width\u001b[49m\u001b[43m)\u001b[49m\n",
      "Cell \u001b[0;32mIn[1], line 26\u001b[0m, in \u001b[0;36mresize_images_in_folder\u001b[0;34m(folder_path, max_width)\u001b[0m\n\u001b[1;32m     23\u001b[0m new_height \u001b[38;5;241m=\u001b[39m \u001b[38;5;28mint\u001b[39m((\u001b[38;5;28mfloat\u001b[39m(img\u001b[38;5;241m.\u001b[39msize[\u001b[38;5;241m1\u001b[39m]) \u001b[38;5;241m*\u001b[39m \u001b[38;5;28mfloat\u001b[39m(width_percent)))\n\u001b[1;32m     25\u001b[0m \u001b[38;5;66;03m# Resize the image\u001b[39;00m\n\u001b[0;32m---> 26\u001b[0m img \u001b[38;5;241m=\u001b[39m img\u001b[38;5;241m.\u001b[39mresize((max_width, new_height), \u001b[43mImage\u001b[49m\u001b[38;5;241;43m.\u001b[39;49m\u001b[43mANTIALIAS\u001b[49m)\n\u001b[1;32m     28\u001b[0m \u001b[38;5;66;03m# Save the resized image to the new folder\u001b[39;00m\n\u001b[1;32m     29\u001b[0m resized_image_path \u001b[38;5;241m=\u001b[39m os\u001b[38;5;241m.\u001b[39mpath\u001b[38;5;241m.\u001b[39mjoin(resized_folder_path, filename)\n",
      "\u001b[0;31mAttributeError\u001b[0m: module 'PIL.Image' has no attribute 'ANTIALIAS'"
     ]
    }
   ],
   "source": [
    "import os\n",
    "from PIL import Image\n",
    "\n",
    "def resize_images_in_folder(folder_path, max_width):\n",
    "    # Ensure the folder exists\n",
    "    if not os.path.exists(folder_path):\n",
    "        print(f\"The folder {folder_path} does not exist.\")\n",
    "        return\n",
    "\n",
    "    # Create a folder for resized images\n",
    "    resized_folder_path = os.path.join(folder_path, 'resized')\n",
    "    os.makedirs(resized_folder_path, exist_ok=True)\n",
    "\n",
    "    # Iterate over all files in the folder\n",
    "    for filename in os.listdir(folder_path):\n",
    "        file_path = os.path.join(folder_path, filename)\n",
    "        \n",
    "        # Check if the file is an image\n",
    "        if os.path.isfile(file_path) and filename.lower().endswith(('png', 'jpg', 'jpeg', 'gif', 'bmp')):\n",
    "            with Image.open(file_path) as img:\n",
    "                # Calculate the new height to maintain the aspect ratio\n",
    "                width_percent = (max_width / float(img.size[0]))\n",
    "                new_height = int((float(img.size[1]) * float(width_percent)))\n",
    "                \n",
    "                # Resize the image\n",
    "                img = img.resize((max_width, new_height), resample=Image.Resampling.LANCZOS)                \n",
    "\n",
    "                # Save the resized image to the new folder\n",
    "                resized_image_path = os.path.join(resized_folder_path, filename)\n",
    "                img.save(resized_image_path)\n",
    "                print(f\"Resized image saved as {resized_image_path}\")\n",
    "\n",
    "# Example usage\n",
    "folder_path = '../../yolo-testing/datasets/exDark-yolo/images/train'\n",
    "max_width = 800\n",
    "resize_images_in_folder(folder_path, max_width)"
   ]
  }
 ],
 "metadata": {
  "kernelspec": {
   "display_name": ".venv",
   "language": "python",
   "name": "python3"
  },
  "language_info": {
   "codemirror_mode": {
    "name": "ipython",
    "version": 3
   },
   "file_extension": ".py",
   "mimetype": "text/x-python",
   "name": "python",
   "nbconvert_exporter": "python",
   "pygments_lexer": "ipython3",
   "version": "3.11.4"
  }
 },
 "nbformat": 4,
 "nbformat_minor": 2
}
